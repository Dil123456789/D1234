{
 "cells": [
  {
   "cell_type": "markdown",
   "id": "445025f4",
   "metadata": {},
   "source": [
    "_This notebook is part of a Git/Hub introduction seminar. Free for usage and distribution._"
   ]
  },
  {
   "cell_type": "markdown",
   "id": "90394504",
   "metadata": {},
   "source": [
    "**Project Code: How to do Sums**\n",
    "\n",
    "You have developed this piece of code as part of your job. You will learn how to store in a repository, retrieve it, and push an edited version back to the origin."
   ]
  },
  {
   "cell_type": "code",
   "execution_count": 1,
   "id": "7272c1b4",
   "metadata": {},
   "outputs": [
    {
     "name": "stdout",
     "output_type": "stream",
     "text": [
      "Did you know that 7 times 9 equals 63?\n",
      "Betcha didn't!\n"
     ]
    }
   ],
   "source": [
    "# Doing some simple yet important math!\n",
    "first_number = 7\n",
    "second_number = 9\n",
    "multiplication_result = 7*9\n",
    "\n",
    "# I changed one operand here\n",
    "print(f\"Did you know that {first_number} times {second_number} equals {multiplication_result}?\")\n",
    "print(\"Betcha didn't!\")"
   ]
  },
  {
   "cell_type": "code",
   "execution_count": null,
   "id": "36642825",
   "metadata": {},
   "outputs": [],
   "source": []
  }
 ],
 "metadata": {
  "kernelspec": {
   "display_name": "Python 3 (ipykernel)",
   "language": "python",
   "name": "python3"
  },
  "language_info": {
   "codemirror_mode": {
    "name": "ipython",
    "version": 3
   },
   "file_extension": ".py",
   "mimetype": "text/x-python",
   "name": "python",
   "nbconvert_exporter": "python",
   "pygments_lexer": "ipython3",
   "version": "3.9.15"
  }
 },
 "nbformat": 4,
 "nbformat_minor": 5
}
